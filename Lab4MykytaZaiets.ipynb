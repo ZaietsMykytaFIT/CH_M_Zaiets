{
  "nbformat": 4,
  "nbformat_minor": 0,
  "metadata": {
    "colab": {
      "provenance": [],
      "authorship_tag": "ABX9TyNHLOJeMg5CfmIYjMrk70zh",
      "include_colab_link": true
    },
    "kernelspec": {
      "name": "python3",
      "display_name": "Python 3"
    },
    "language_info": {
      "name": "python"
    }
  },
  "cells": [
    {
      "cell_type": "markdown",
      "metadata": {
        "id": "view-in-github",
        "colab_type": "text"
      },
      "source": [
        "<a href=\"https://colab.research.google.com/github/ZaietsMykytaFIT/CH_M_Zaiets/blob/main/Lab4MykytaZaiets.ipynb\" target=\"_parent\"><img src=\"https://colab.research.google.com/assets/colab-badge.svg\" alt=\"Open In Colab\"/></a>"
      ]
    },
    {
      "cell_type": "markdown",
      "source": [
        "Лабораторна робота 4, усюди варіанти 3"
      ],
      "metadata": {
        "id": "SG9Bk3z59QWg"
      }
    },
    {
      "cell_type": "code",
      "source": [
        "import numpy as np"
      ],
      "metadata": {
        "id": "JtffO93--EPZ"
      },
      "execution_count": 100,
      "outputs": []
    },
    {
      "cell_type": "markdown",
      "source": [
        "Завдання 1: Знайти матрицю С = 𝐴𝐵−𝐵𝐴"
      ],
      "metadata": {
        "id": "2APdjWrUxSBh"
      }
    },
    {
      "cell_type": "code",
      "execution_count": 101,
      "metadata": {
        "id": "UIBfnrgPw03X",
        "colab": {
          "base_uri": "https://localhost:8080/"
        },
        "outputId": "075c0af5-6b8b-4600-8c86-470cb71b2a36"
      },
      "outputs": [
        {
          "output_type": "stream",
          "name": "stdout",
          "text": [
            "[[0 0 0]\n",
            " [0 0 0]\n",
            " [0 0 0]]\n"
          ]
        }
      ],
      "source": [
        "matrix_A = np.matrix('1 1 1; 0 1 1; 0 0 1')\n",
        "matrix_B = np.matrix('7 5 3; 0 7 5; 0 0 7')\n",
        "\n",
        "matrix_C = np.dot(matrix_A, matrix_B) - np.dot(matrix_B, matrix_A)\n",
        "\n",
        "print (matrix_C)"
      ]
    },
    {
      "cell_type": "markdown",
      "source": [
        "Завдання 2: Піднести матриці до степеня"
      ],
      "metadata": {
        "id": "sZj2HLcH7SiM"
      }
    },
    {
      "cell_type": "code",
      "source": [
        "matrix_A = np.matrix('5 0 0 0; 0 -2 0 0; 0 0 3 0; 0 0 0 2')\n",
        "\n",
        "matrix_F = matrix_A.dot(matrix_A)\n",
        "\n",
        "print(matrix_F)"
      ],
      "metadata": {
        "id": "iogeu_o17coF",
        "colab": {
          "base_uri": "https://localhost:8080/"
        },
        "outputId": "ff4df86c-cdf0-4af1-f229-26ffcafb1c05"
      },
      "execution_count": 102,
      "outputs": [
        {
          "output_type": "stream",
          "name": "stdout",
          "text": [
            "[[25  0  0  0]\n",
            " [ 0  4  0  0]\n",
            " [ 0  0  9  0]\n",
            " [ 0  0  0  4]]\n"
          ]
        }
      ]
    },
    {
      "cell_type": "markdown",
      "source": [
        "Завдання 3: Знайти добуток матриць"
      ],
      "metadata": {
        "id": "eKByPCEj8RXu"
      }
    },
    {
      "cell_type": "code",
      "source": [
        "matrix_A = np.matrix('3 0 7; -4 2 3; -1 1 2')\n",
        "matrix_B = np.matrix('1; 2; 4')\n",
        "\n",
        "matrix_F = np.dot(matrix_A, matrix_B)\n",
        "\n",
        "print(matrix_F)"
      ],
      "metadata": {
        "id": "miWSrrrC8aIq",
        "colab": {
          "base_uri": "https://localhost:8080/"
        },
        "outputId": "fe9873c6-71e9-4553-a916-bb921d270650"
      },
      "execution_count": 103,
      "outputs": [
        {
          "output_type": "stream",
          "name": "stdout",
          "text": [
            "[[31]\n",
            " [12]\n",
            " [ 9]]\n"
          ]
        }
      ]
    },
    {
      "cell_type": "markdown",
      "source": [
        "Завдання 4: Обчислити визначники"
      ],
      "metadata": {
        "id": "lKOpaIqD-5ot"
      }
    },
    {
      "cell_type": "code",
      "source": [
        "matrix_A = np.matrix('2 4 5; 1 1 2; 2 4 3')\n",
        "\n",
        "matrix_A_det = np.linalg.det(matrix_A)\n",
        "\n",
        "print (matrix_A_det)"
      ],
      "metadata": {
        "id": "Y5G6_mp__Bsm",
        "colab": {
          "base_uri": "https://localhost:8080/"
        },
        "outputId": "650bcfd3-27b7-4752-d51b-6894199557eb"
      },
      "execution_count": 104,
      "outputs": [
        {
          "output_type": "stream",
          "name": "stdout",
          "text": [
            "4.0\n"
          ]
        }
      ]
    },
    {
      "cell_type": "markdown",
      "source": [
        "Завдання 5: Обчислити визначники"
      ],
      "metadata": {
        "id": "iCKWn6TsBty8"
      }
    },
    {
      "cell_type": "code",
      "source": [
        "matrix_A = np.matrix('1 2 0 0 0; 1 0 2 0 0; 1 0 0 2 0; 1 0 0 0 2; 0 0 1 1 1')\n",
        "\n",
        "matrix_A_det = round(np.linalg.det(matrix_A), 12)\n",
        "\n",
        "print (matrix_A_det)"
      ],
      "metadata": {
        "id": "l_8kn9BnByIR",
        "colab": {
          "base_uri": "https://localhost:8080/"
        },
        "outputId": "9bc8f20a-2a46-4a08-8395-e82c7bdeb7b2"
      },
      "execution_count": 105,
      "outputs": [
        {
          "output_type": "stream",
          "name": "stdout",
          "text": [
            "-24.0\n"
          ]
        }
      ]
    },
    {
      "cell_type": "markdown",
      "source": [
        "Завдання 6: Знайти обернену матрицю до матриць\n"
      ],
      "metadata": {
        "id": "8763QTUMCxbL"
      }
    },
    {
      "cell_type": "code",
      "source": [
        "matrix_A = np.matrix('1 2 2; 2 1 -2; 2 -2 1')\n",
        "\n",
        "matrix_A_inv = np.linalg.inv(matrix_A)\n",
        "\n",
        "print(matrix_A_inv)"
      ],
      "metadata": {
        "id": "-v5gFslIC0l_",
        "colab": {
          "base_uri": "https://localhost:8080/"
        },
        "outputId": "bf0dc4f0-5668-4c3c-f9db-d0cde3063653"
      },
      "execution_count": 106,
      "outputs": [
        {
          "output_type": "stream",
          "name": "stdout",
          "text": [
            "[[ 0.11111111  0.22222222  0.22222222]\n",
            " [ 0.22222222  0.11111111 -0.22222222]\n",
            " [ 0.22222222 -0.22222222  0.11111111]]\n"
          ]
        }
      ]
    },
    {
      "cell_type": "markdown",
      "source": [
        "Завдання 7: Визначити ранг матриці"
      ],
      "metadata": {
        "id": "BK0HyBOPDs1z"
      }
    },
    {
      "cell_type": "code",
      "source": [
        "matrix_A = np.matrix('-2 3 1 -1; 3 2 1 4; 1 2 3 4; 0 2 3 3')\n",
        "\n",
        "matrix_A_rank = np.linalg.matrix_rank(matrix_A)\n",
        "\n",
        "print(matrix_A_rank)"
      ],
      "metadata": {
        "id": "DiYccCEXDxJQ",
        "colab": {
          "base_uri": "https://localhost:8080/"
        },
        "outputId": "0bc48be8-74c6-47ab-f9ad-3b73678781cd"
      },
      "execution_count": 107,
      "outputs": [
        {
          "output_type": "stream",
          "name": "stdout",
          "text": [
            "3\n"
          ]
        }
      ]
    },
    {
      "cell_type": "markdown",
      "source": [
        "Завдання 8: Розв’язати систему лінійних рівнянь методом Крамера, матричним методом (тобто обчислити обернену матрицю) і м. Гауса. Потім зробити перевірку за допомогою solve() пакету linalg"
      ],
      "metadata": {
        "id": "b7WFp3TIEU-O"
      }
    },
    {
      "cell_type": "code",
      "source": [
        "def cramer_method(var, const):\n",
        "    det_var = np.linalg.det(var)\n",
        "    solutions = []\n",
        "    for i in range(len(var)):\n",
        "        modified_var = np.matrix(var)\n",
        "        modified_var[:, i] = const\n",
        "        solutions.append(round(np.linalg.det(modified_var) / det_var, 12))\n",
        "    return solutions\n",
        "\n",
        "def matrix_method(var, const):\n",
        "    inv_matrix = np.linalg.inv(var)\n",
        "    return np.dot(inv_matrix, const)\n",
        "\n",
        "def gauss_method(a, b): # Ідеї як прибрати попередження - відсутні\n",
        "    n = len(b)\n",
        "\n",
        "    for k in range(0, n-1):\n",
        "        for i in range(k+1, n):\n",
        "            if a[i, k] != 0.0:\n",
        "                lam = a[i, k] / a[k, k]\n",
        "                a[i, k+1:n] = a[i, k+1:n] - lam * a[k, k+1:n]\n",
        "                b[i] = b[i] - lam * b[k]\n",
        "\n",
        "    x = np.zeros(n)\n",
        "    for k in range(n-1, -1, -1):\n",
        "        x[k] = (b[k] - np.dot(a[k, k+1:n], x[k+1:n])) / a[k, k]\n",
        "\n",
        "    return x\n",
        "\n",
        "left_side = np.matrix('3 -5 3; 1 2 1; 2 7 -1')\n",
        "right_side = np.matrix('1; 4; 8')\n",
        "\n",
        "\n",
        "print(\"Cramer method - \", cramer_method(left_side, right_side))\n",
        "print(\"Matrix_method - \", matrix_method(left_side, right_side).T)\n",
        "print(\"Gauss_method - \", gauss_method(left_side, right_side))"
      ],
      "metadata": {
        "id": "nhl7QdwyEcfu",
        "colab": {
          "base_uri": "https://localhost:8080/"
        },
        "outputId": "e65c242b-3eb2-4106-b285-3cec67437143"
      },
      "execution_count": 108,
      "outputs": [
        {
          "output_type": "stream",
          "name": "stdout",
          "text": [
            "Cramer method -  [1.0, 1.0, 1.0]\n",
            "Matrix_method -  [[1. 1. 1.]]\n",
            "Gauss_method -  [1. 1. 1.]\n"
          ]
        },
        {
          "output_type": "stream",
          "name": "stderr",
          "text": [
            "<ipython-input-108-1305aa523443>:26: DeprecationWarning: Conversion of an array with ndim > 0 to a scalar is deprecated, and will error in future. Ensure you extract a single element from your array before performing this operation. (Deprecated NumPy 1.25.)\n",
            "  x[k] = (b[k] - np.dot(a[k, k+1:n], x[k+1:n])) / a[k, k]\n"
          ]
        }
      ]
    },
    {
      "cell_type": "markdown",
      "source": [
        "Пункт 2: Створіть прямокутну матрицю A, яка має N рядків і M стовпців з випадковими елементами. Визначте середні значення для всіх рядків і стовпців матриці."
      ],
      "metadata": {
        "id": "QnvRNFCuEqx1"
      }
    },
    {
      "cell_type": "code",
      "source": [
        "import random as rnd\n",
        "\n",
        "def rndMatrix():\n",
        "  n = rnd.randint(2, 6)\n",
        "  m = rnd.randint(2, 6)\n",
        "  arr = np.zeros((n,m), dtype=int)\n",
        "  for i in range(n):\n",
        "    for j in range(m):\n",
        "     arr[i][j]=(rnd.randint(-99, 99))\n",
        "  return arr\n",
        "\n",
        "def avgRow(a):\n",
        "  row = []\n",
        "  rows = len(a)\n",
        "  for i in range(0, rows):\n",
        "    row.append(round(np.average(a[i]), 3))\n",
        "  return (row)\n",
        "\n",
        "def avgColumn(a):\n",
        "  column = []\n",
        "  for i in range(a.shape[1]):\n",
        "    column.append(round(np.average(a[:, i]), 3))\n",
        "  return (column)\n",
        "\n",
        "matrix_A = rndMatrix()\n",
        "matrix_Avg_Row = avgRow(matrix_A)\n",
        "matrix_Avg_Column = avgColumn(matrix_A)\n",
        "\n",
        "print (matrix_A)\n",
        "print (\"Rows avg:\", matrix_Avg_Row)\n",
        "print (\"Column avg:\",matrix_Avg_Column)"
      ],
      "metadata": {
        "id": "lAmjt1WSE2D-",
        "colab": {
          "base_uri": "https://localhost:8080/"
        },
        "outputId": "d090cd4b-0d2e-4ba1-9687-a2b908be6410"
      },
      "execution_count": 109,
      "outputs": [
        {
          "output_type": "stream",
          "name": "stdout",
          "text": [
            "[[-38 -72  76 -84 -53]\n",
            " [-11 -18 -27  54   7]]\n",
            "Rows avg: [-34.2, 1.0]\n",
            "Column avg: [-24.5, -45.0, 24.5, -15.0, -23.0]\n"
          ]
        }
      ]
    }
  ]
}