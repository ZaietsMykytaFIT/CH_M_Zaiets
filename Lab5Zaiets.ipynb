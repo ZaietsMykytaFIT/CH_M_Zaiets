{
  "nbformat": 4,
  "nbformat_minor": 0,
  "metadata": {
    "colab": {
      "provenance": [],
      "authorship_tag": "ABX9TyOKBlg7/kA+a13gw7hEuAqW",
      "include_colab_link": true
    },
    "kernelspec": {
      "name": "python3",
      "display_name": "Python 3"
    },
    "language_info": {
      "name": "python"
    }
  },
  "cells": [
    {
      "cell_type": "markdown",
      "metadata": {
        "id": "view-in-github",
        "colab_type": "text"
      },
      "source": [
        "<a href=\"https://colab.research.google.com/github/ZaietsMykytaFIT/CH_M_Zaiets/blob/main/Lab5Zaiets.ipynb\" target=\"_parent\"><img src=\"https://colab.research.google.com/assets/colab-badge.svg\" alt=\"Open In Colab\"/></a>"
      ]
    },
    {
      "cell_type": "code",
      "execution_count": 14,
      "metadata": {
        "id": "89N-qxbL3Bcd",
        "colab": {
          "base_uri": "https://localhost:8080/",
          "height": 256
        },
        "outputId": "e7aedca6-241f-4156-d32d-2881f04d442c"
      },
      "outputs": [
        {
          "output_type": "display_data",
          "data": {
            "text/plain": [
              "<Figure size 200x200 with 1 Axes>"
            ],
            "image/png": "[encoded data removed]"
          },
          "metadata": {}
        }
      ],
      "source": [
        "#Частина 1, побудова графіка функції\n",
        "import numpy as np\n",
        "import matplotlib.pyplot as plt\n",
        "\n",
        "# область значень для x та y\n",
        "x_min, x_max = -0.5, 0.5\n",
        "y_min, y_max = 0.5, 1.5\n",
        "step = 0.001\n",
        "\n",
        "# створюємо масиви значень x та y\n",
        "x, y = np.meshgrid(np.arange(x_min, x_max, step),\n",
        "                   np.arange(y_min, y_max, step))\n",
        "\n",
        "# рівняння системи\n",
        "eq1 = np.sin(x) + 2*y -2\n",
        "eq2 = np.cos(y-1) + x -0.7\n",
        "\n",
        "# створюємо графік\n",
        "fig, ax = plt.subplots(figsize=(2, 2))\n",
        "\n",
        "# додаємо графіки рівнянь\n",
        "ax.contour(x, y, eq1, levels=[0], colors='#00bc4a')\n",
        "ax.contour(x, y, eq2, levels=[0], colors='#1681cb')\n",
        "\n",
        "# налаштування графіка\n",
        "ax.set_xlim([x_min, x_max])\n",
        "ax.set_ylim([y_min, y_max])\n",
        "ax.set_xlabel('x')\n",
        "ax.set_ylabel('y')\n",
        "ax.set_title('Графік системи рівнянь')\n",
        "plt.grid(True)\n",
        "\n",
        "# показуємо графік\n",
        "plt.show()"
      ]
    },
    {
      "cell_type": "code",
      "source": [
        "import numpy as np\n",
        "from scipy import optimize\n",
        "\n",
        "x0 = -0.5\n",
        "y0 = 1\n",
        "delta = 0.1\n",
        "\n",
        "def f1(y):\n",
        "    return 0.7 - np.cos(y-1)  #задаємо функції як 'x='\n",
        "def f2 (x):\n",
        "    return 1 - 0.5*np.sin(x)  #задаємо функції як 'y='\n",
        "def f3(x): #Задаємо функції, де (x = x[0], y = x[1])\n",
        "    return np.sin(x[0]) + 2*x[1] -2, np.cos(x[1]-1) + x[0] -0.7\n",
        "\n",
        "def iter (x,y,e):\n",
        "    xn = x\n",
        "    yn = y\n",
        "    xn1 = f2(x)\n",
        "    yn1 = f1(y)\n",
        "    n = 1\n",
        "    while ((abs(xn1-xn)>=e) & (abs(yn1-yn) >=e)):\n",
        "        xn = xn1\n",
        "        yn = yn1\n",
        "        xn1 = f2(yn)\n",
        "        yn1 = f1(xn)\n",
        "        n += 1\n",
        "    print ('Simple iteration:')\n",
        "    print ('x=', xn, '\\ny=',yn,'\\nThe amount of iteration = ',n)\n",
        "\n",
        "iter(x0,y0,0.0001)\n",
        "s = optimize.root(f3, [0.,0.], method = 'hybr') #Перевірка розв'язку\n",
        "\n",
        "print ('Chek',s.x)"
      ],
      "metadata": {
        "colab": {
          "base_uri": "https://localhost:8080/"
        },
        "id": "cfT2bJGC3197",
        "outputId": "4772aa8a-88c5-4f18-f1d7-434664f78ae6"
      },
      "execution_count": 17,
      "outputs": [
        {
          "output_type": "stream",
          "name": "stdout",
          "text": [
            "Simple iteration:\n",
            "x= 1.1429078114583104 \n",
            "y= -0.2897259118092107 \n",
            "The amount of iteration =  7\n",
            "Chek [-0.28980933  1.14288476]\n"
          ]
        }
      ]
    }
  ]
}