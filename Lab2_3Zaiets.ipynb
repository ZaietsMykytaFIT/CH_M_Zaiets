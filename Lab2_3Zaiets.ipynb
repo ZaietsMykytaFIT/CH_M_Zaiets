{
  "nbformat": 4,
  "nbformat_minor": 0,
  "metadata": {
    "colab": {
      "provenance": [],
      "mount_file_id": "1EpG5ZwYIiLoQ9wcAdzMwSqRy9SsaZPAl",
      "authorship_tag": "ABX9TyPrVuVOA0vf0E8FgROa+ZkS",
      "include_colab_link": true
    },
    "kernelspec": {
      "name": "python3",
      "display_name": "Python 3"
    },
    "language_info": {
      "name": "python"
    }
  },
  "cells": [
    {
      "cell_type": "markdown",
      "metadata": {
        "id": "view-in-github",
        "colab_type": "text"
      },
      "source": [
        "<a href=\"https://colab.research.google.com/github/ZaietsMykytaFIT/CH_M_Zaiets/blob/main/Lab2_3Zaiets.ipynb\" target=\"_parent\"><img src=\"https://colab.research.google.com/assets/colab-badge.svg\" alt=\"Open In Colab\"/></a>"
      ]
    },
    {
      "cell_type": "markdown",
      "source": [
        "Лабораторна робота 2"
      ],
      "metadata": {
        "id": "4LjcO1oLrs2z"
      }
    },
    {
      "cell_type": "code",
      "source": [
        "import numpy as np\n",
        "import numdifftools as nd\n",
        "\n",
        "f = lambda x: 6*x**4 + 4*x**3 + x**2  + x - 10    # функція f(x)\n",
        "eps=0.0001\n",
        "\n",
        "def find_segments(): #відокремлюємо проміжки коренів\n",
        "    search_range = np.arange(-100, 100, 1)\n",
        "\n",
        "    previous_x = None\n",
        "    segments = []\n",
        "\n",
        "    for x in search_range:\n",
        "        x = round(x, 4)\n",
        "        current_x = f(x)\n",
        "        if previous_x != None and previous_x * current_x < 0:\n",
        "            segments.append((a, x))\n",
        "        a = x\n",
        "        previous_x = current_x\n",
        "    return segments"
      ],
      "metadata": {
        "id": "sjG6MdmnQtyI"
      },
      "execution_count": 61,
      "outputs": []
    },
    {
      "cell_type": "code",
      "source": [
        "def rec(a, b, eps): #метод половинного ділення\n",
        "    while (abs(a-b) > eps):\n",
        "        if (f(a) * f((a+b)/2) < 0): b = (a+b)/2\n",
        "        else: a = (a+b)/2\n",
        "        x = (a+b)/2\n",
        "\n",
        "    print ('x= ', round(x,5), '  - Half division method')\n",
        "\n",
        "def hord (a,b,eps): #метод хорд\n",
        "  if (f(a) *  nd.Derivative(f, n=2)(a) > 0):\n",
        "      x0, xi = a, b\n",
        "  else:\n",
        "      x0, xi = b, a\n",
        "  xi_1 = xi-(xi-x0) * f(xi) / (f(xi)-f(x0))\n",
        "  while (abs(xi_1-xi) > eps):\n",
        "      xi = xi_1\n",
        "      xi_1 = xi-(xi-x0) * f(xi) / (f(xi)-f(x0))\n",
        "  print('x= ', round (xi_1,5) , '  - Chord method')\n",
        "\n",
        "segments = find_segments()\n",
        "print(segments)\n",
        "counter = 0\n",
        "\n",
        "for a, b in segments:\n",
        "  print ('Solution on a segment ', segments[counter])\n",
        "  rec (a,b,eps)\n",
        "  hord (a,b,eps)\n",
        "  counter += 1\n",
        "counter = 0"
      ],
      "metadata": {
        "colab": {
          "base_uri": "https://localhost:8080/"
        },
        "id": "G5PUMG0T0thg",
        "outputId": "a99b2ecd-6647-43f0-b8a9-e3dced75d13b"
      },
      "execution_count": 62,
      "outputs": [
        {
          "output_type": "stream",
          "name": "stdout",
          "text": [
            "[(-2, -1), (0, 1)]\n",
            "Solution on a segment  (-2, -1)\n",
            "x=  -1.3353   - Half division method\n",
            "x=  -1.3352   - Chord method\n",
            "Solution on a segment  (0, 1)\n",
            "x=  0.94504   - Half division method\n",
            "x=  0.94504   - Chord method\n"
          ]
        }
      ]
    },
    {
      "cell_type": "markdown",
      "source": [
        "Лабораторна робота 3"
      ],
      "metadata": {
        "id": "65GjM5FR0Iy4"
      }
    },
    {
      "cell_type": "code",
      "source": [
        "def nuton(a, b, eps):\n",
        "    df2 = nd.Derivative(f, n=2)(b)\n",
        "    if f(b) * df2 > 0: xi = b\n",
        "    else: xi = a\n",
        "    df = nd.Derivative(f, n=1)(xi)\n",
        "    xi_1 = xi - f(xi) / df\n",
        "    while abs(xi_1 - xi) > eps:\n",
        "        xi = xi_1\n",
        "        xi_1 = xi - f(xi) / df\n",
        "    print('x = ', xi_1.round(5), '  - Neuton method')\n",
        "\n",
        "def komb(a, b, eps):\n",
        "    if nd.Derivative(f, n=1)(a) * nd.Derivative(f, n=2)(a) > 0:\n",
        "        a0, b0 = a, b\n",
        "    else:\n",
        "        a0, b0 = b, a\n",
        "    ai,bi = a0,b0\n",
        "    while abs(ai - bi) > eps:\n",
        "        ai_1 = ai - f(ai) * (bi - ai) / (f(bi) - f(ai))\n",
        "        bi_1 = bi - f(bi) / nd.Derivative(f, n=1)(bi)\n",
        "        ai = ai_1\n",
        "        bi = bi_1\n",
        "    x = (ai_1 + bi_1) / 2\n",
        "\n",
        "    print('x = ', x.round(5), '  - Combined method')\n",
        "\n",
        "for a, b in segments:\n",
        "  print ('Solution on a segment ', segments[counter])\n",
        "  nuton(a, b, eps)\n",
        "  komb(a, b, eps)\n",
        "  counter += 1\n",
        "counter = 0"
      ],
      "metadata": {
        "colab": {
          "base_uri": "https://localhost:8080/"
        },
        "id": "cV3oXkPx1dYd",
        "outputId": "36ed6506-abe8-446a-b9d0-bb23330b6983"
      },
      "execution_count": 65,
      "outputs": [
        {
          "output_type": "stream",
          "name": "stdout",
          "text": [
            "Solution on a segment  (-2, -1)\n",
            "x =  -1.3356   - Neuton method\n",
            "x =  -1.33532   - Combined method\n",
            "Solution on a segment  (0, 1)\n",
            "x =  0.94505   - Neuton method\n",
            "x =  0.94504   - Combined method\n"
          ]
        }
      ]
    }
  ]
}